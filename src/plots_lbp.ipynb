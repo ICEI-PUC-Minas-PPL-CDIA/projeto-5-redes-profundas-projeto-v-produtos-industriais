{
 "cells": [
  {
   "cell_type": "code",
   "execution_count": null,
   "id": "cf24aeda-a1b5-4696-88b4-d4eda3b07bd1",
   "metadata": {},
   "outputs": [],
   "source": [
    "import pandas as pd\n",
    "import matplotlib.pyplot as plt\n",
    "import seaborn as sns\n",
    "from sklearn.manifold import TSNE, MDS, Isomap, LocallyLinearEmbedding, SpectralEmbedding\n",
    "from sklearn.decomposition import PCA, KernelPCA, TruncatedSVD"
   ]
  },
  {
   "cell_type": "code",
   "execution_count": null,
   "id": "6f130b08-db12-459f-a989-9709cee3890f",
   "metadata": {},
   "outputs": [],
   "source": [
    "df = pd.read_csv(\"lbp_features.csv\")\n",
    "features = df.drop(columns=[\"filename\", \"label\"]).values\n",
    "labels = df[\"label\"].values\n",
    "\n",
    "def plot_embedding(df_emb, title):\n",
    "    plt.figure(figsize=(8, 6))\n",
    "    sns.scatterplot(data=df_emb, x=\"x\", y=\"y\", hue=\"label\", palette=\"tab10\", s=50, alpha=0.8, edgecolor=\"k\")\n",
    "    plt.title(title)\n",
    "    plt.legend(title=\"Classe\", bbox_to_anchor=(1.05, 1), loc=\"upper left\")\n",
    "    plt.tight_layout()\n",
    "\n",
    "embedders = {\n",
    "    \"t-SNE\": TSNE(n_components=2, perplexity=30, learning_rate=200, n_iter=1000, random_state=42),\n",
    "    \"PCA\": PCA(n_components=2, random_state=42),\n",
    "    \"KernelPCA\": KernelPCA(n_components=2, kernel=\"rbf\", random_state=42),\n",
    "    \"TruncatedSVD\": TruncatedSVD(n_components=2, random_state=42),\n",
    "    \"MDS\": MDS(n_components=2, random_state=42),\n",
    "    \"Isomap\": Isomap(n_components=2, n_neighbors=15),\n",
    "    \"LLE\": LocallyLinearEmbedding(n_components=2, n_neighbors=15),\n",
    "    \"SpectralEmbedding\": SpectralEmbedding(n_components=2, n_neighbors=15)\n",
    "}\n",
    "\n",
    "for name, model in embedders.items():\n",
    "    X_emb = model.fit_transform(features)\n",
    "    df_emb = pd.DataFrame(X_emb, columns=[\"x\", \"y\"])\n",
    "    df_emb[\"label\"] = labels\n",
    "    plot_embedding(df_emb, f\"{name} dos Embeddings\")\n",
    "\n",
    "plt.show()"
   ]
  }
 ],
 "metadata": {
  "kernelspec": {
   "display_name": "Python 3 (ipykernel)",
   "language": "python",
   "name": "python3"
  },
  "language_info": {
   "codemirror_mode": {
    "name": "ipython",
    "version": 3
   },
   "file_extension": ".py",
   "mimetype": "text/x-python",
   "name": "python",
   "nbconvert_exporter": "python",
   "pygments_lexer": "ipython3",
   "version": "3.11.5"
  }
 },
 "nbformat": 4,
 "nbformat_minor": 5
}
